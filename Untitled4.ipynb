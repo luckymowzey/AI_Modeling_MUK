{
  "nbformat": 4,
  "nbformat_minor": 0,
  "metadata": {
    "colab": {
      "provenance": [],
      "authorship_tag": "ABX9TyNHBASh/Bb1DdyHfET8e14P",
      "include_colab_link": true
    },
    "kernelspec": {
      "name": "python3",
      "display_name": "Python 3"
    },
    "language_info": {
      "name": "python"
    }
  },
  "cells": [
    {
      "cell_type": "markdown",
      "metadata": {
        "id": "view-in-github",
        "colab_type": "text"
      },
      "source": [
        "<a href=\"https://colab.research.google.com/github/luckymowzey/AI_Modeling_MUK/blob/main/Untitled4.ipynb\" target=\"_parent\"><img src=\"https://colab.research.google.com/assets/colab-badge.svg\" alt=\"Open In Colab\"/></a>"
      ]
    },
    {
      "cell_type": "code",
      "execution_count": 1,
      "metadata": {
        "colab": {
          "base_uri": "https://localhost:8080/"
        },
        "id": "uCIuWPqvKOvf",
        "outputId": "45e48966-35ae-4916-fac9-60bb03430551"
      },
      "outputs": [
        {
          "output_type": "stream",
          "name": "stdout",
          "text": [
            "Choose a shape: 'S' square, 'R' for rectangle, and 'C' for circle\n",
            "Shape: R\n",
            "Enter the length of the rectangle: 10\n",
            "Enter the width of the rectangle: 8\n",
            "The area of the rectangle is: 80.0 cm^2\n"
          ]
        }
      ],
      "source": [
        "import math\n",
        "print(\"Choose a shape: 'S' square, 'R' for rectangle, and 'C' for circle\")\n",
        "shape = input(\"Shape: \")\n",
        "shape == \"R\"\n",
        "length = float(input(\"Enter the length of the rectangle: \"))\n",
        "width = float(input(\"Enter the width of the rectangle: \"))\n",
        "area = length * width\n",
        "print(\"The area of the rectangle is:\", area, \"cm^2\")\n"
      ]
    },
    {
      "cell_type": "code",
      "source": [
        "print(\"Choose a shape: 'S' square, 'R' for rectangle, and 'C' for circle\")\n",
        "shape = input(\"Shape: \")\n",
        "shape = input(\"Shape: \")\n",
        "shape == \"S\"\n",
        "side = float(input(\"Enter the side of the square: \"))\n",
        "area = side * side\n",
        "print(\"The area of the square is:\", area, \"cm^2\")"
      ],
      "metadata": {
        "colab": {
          "base_uri": "https://localhost:8080/"
        },
        "id": "3x06ofSFQ5Lz",
        "outputId": "e22a978a-74af-4c9d-bb44-42dda2b6ca5a"
      },
      "execution_count": 2,
      "outputs": [
        {
          "output_type": "stream",
          "name": "stdout",
          "text": [
            "Choose a shape: 'S' square, 'R' for rectangle, and 'C' for circle\n",
            "Shape: S\n",
            "Shape: S\n",
            "Enter the side of the square: 10\n",
            "The area of the square is: 100.0 cm^2\n"
          ]
        }
      ]
    },
    {
      "cell_type": "code",
      "source": [
        "import math\n",
        "print(\"Choose a shape: 'S' square, 'R' for rectangle, and 'C' for circle\")\n",
        "shape = input(\"Shape: \")\n",
        "shape = input(\"Shape: \")\n",
        "shape == \"C\"\n",
        "radius = float(input(\"Enter the radius of the circle: \"))\n",
        "area = math.pi * (radius ** 2)\n",
        "print(\"The area of the square is:\", area, \"cm^2\")"
      ],
      "metadata": {
        "colab": {
          "base_uri": "https://localhost:8080/"
        },
        "id": "-g_BdIKyRUUC",
        "outputId": "78431ca6-8544-44ec-f14a-dacb995d29f8"
      },
      "execution_count": 2,
      "outputs": [
        {
          "output_type": "stream",
          "name": "stdout",
          "text": [
            "Choose a shape: 'S' square, 'R' for rectangle, and 'C' for circle\n",
            "Shape: C\n",
            "Shape: C\n",
            "Enter the radius of the circle: 5\n",
            "The area of the square is: 78.53981633974483 cm^2\n"
          ]
        }
      ]
    }
  ]
}